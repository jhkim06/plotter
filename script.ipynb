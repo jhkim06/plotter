{
 "cells": [
  {
   "cell_type": "code",
   "execution_count": 1,
   "id": "fd62c3f4-2a28-4fdf-a879-e609ac4bd43a",
   "metadata": {},
   "outputs": [],
   "source": [
    "%config InlineBackend.figure_format = 'retina' "
   ]
  },
  {
   "cell_type": "code",
   "execution_count": 2,
   "id": "6e6fa937-c812-4214-8051-dec5c63f2da0",
   "metadata": {},
   "outputs": [],
   "source": [
    "import copy"
   ]
  },
  {
   "cell_type": "code",
   "execution_count": 3,
   "id": "2a42a854-850d-4c9a-9dda-c6169fb7b490",
   "metadata": {},
   "outputs": [
    {
     "name": "stdout",
     "output_type": "stream",
     "text": [
      "Welcome to JupyROOT 6.26/00\n"
     ]
    }
   ],
   "source": [
    "import THxxDataWithSyst as rt_hist"
   ]
  },
  {
   "cell_type": "code",
   "execution_count": 4,
   "id": "81e7b8a8-3d8a-42bf-8c84-2bb51484d639",
   "metadata": {},
   "outputs": [
    {
     "name": "stderr",
     "output_type": "stream",
     "text": [
      "Warning in <TH1D::Sumw2>: Sum of squares of weights structure already created\n",
      "Warning in <TH1D::Sumw2>: Sum of squares of weights structure already created\n",
      "Warning in <TH1D::Sumw2>: Sum of squares of weights structure already created\n",
      "Warning in <TH1D::Sumw2>: Sum of squares of weights structure already created\n",
      "Warning in <TH1D::Sumw2>: Sum of squares of weights structure already created\n",
      "Warning in <TH1D::Sumw2>: Sum of squares of weights structure already created\n",
      "Warning in <TH1D::Sumw2>: Sum of squares of weights structure already created\n"
     ]
    }
   ],
   "source": [
    "dy_mc = rt_hist.THxxDataWithSyst([(\"DY\",\"./data/ISRAnalyzer_DYJets_.root\")],\"ee2016/dilep_pt_m64to81\",\"Drell-Yan\",\n",
    "                         [\"./data/ISRAnalyzer_DYJets_sys.root\"], \n",
    "                            {\"_scale\":[\"_up\",\"_down\"], \"_IDSF\":[\"_up\",\"_down\"],\n",
    "                            \"_RECOSF\":[\"_up\",\"_down\"]}, \"red\")"
   ]
  },
  {
   "cell_type": "code",
   "execution_count": 5,
   "id": "bb959f97-17d4-4832-a775-53e33e457ed0",
   "metadata": {},
   "outputs": [
    {
     "name": "stderr",
     "output_type": "stream",
     "text": [
      "Warning in <TH1D::Sumw2>: Sum of squares of weights structure already created\n",
      "Warning in <TH1D::Sumw2>: Sum of squares of weights structure already created\n",
      "Warning in <TH1D::Sumw2>: Sum of squares of weights structure already created\n",
      "Warning in <TH1D::Sumw2>: Sum of squares of weights structure already created\n",
      "Warning in <TH1D::Sumw2>: Sum of squares of weights structure already created\n",
      "Warning in <TH1D::Sumw2>: Sum of squares of weights structure already created\n",
      "Warning in <TH1D::Sumw2>: Sum of squares of weights structure already created\n"
     ]
    }
   ],
   "source": [
    "dy_tau_mc = rt_hist.THxxDataWithSyst([(\"DY\",\"./data/ISRAnalyzer_DYJets_.root\")],\"ee2016/tau_dilep_pt_m64to81\",\"tautau\", \n",
    "                         [\"./data/ISRAnalyzer_DYJets_sys.root\"], \n",
    "                            {\"_scale\":[\"_up\",\"_down\"], \"_IDSF\":[\"_up\",\"_down\"],\n",
    "                            \"_RECOSF\":[\"_up\",\"_down\"]}, \"lightcoral\")"
   ]
  },
  {
   "cell_type": "code",
   "execution_count": 6,
   "id": "3a430ffc-6cd0-4dca-ad0e-336ed2cae198",
   "metadata": {},
   "outputs": [
    {
     "name": "stderr",
     "output_type": "stream",
     "text": [
      "Warning in <TH1D::Sumw2>: Sum of squares of weights structure already created\n",
      "Warning in <TH1D::Sumw2>: Sum of squares of weights structure already created\n",
      "Warning in <TH1D::Sumw2>: Sum of squares of weights structure already created\n",
      "Warning in <TH1D::Sumw2>: Sum of squares of weights structure already created\n",
      "Warning in <TH1D::Sumw2>: Sum of squares of weights structure already created\n",
      "Warning in <TH1D::Sumw2>: Sum of squares of weights structure already created\n",
      "Warning in <TH1D::Sumw2>: Sum of squares of weights structure already created\n"
     ]
    }
   ],
   "source": [
    "ttbar_tau_mc = rt_hist.THxxDataWithSyst([(\"ttbar\",\"./data/ISRAnalyzer_TTLL_powheg.root\")],\"ee2016/dilep_pt_m64to81\",\"ttbar\", \n",
    "                         [\"./data/ISRAnalyzer_TTLL_powheg_sys.root\"], \n",
    "                            {\"_scale\":[\"_up\",\"_down\"], \"_IDSF\":[\"_up\",\"_down\"],\n",
    "                            \"_RECOSF\":[\"_up\",\"_down\"]}, \"green\")"
   ]
  },
  {
   "cell_type": "code",
   "execution_count": 7,
   "id": "3958b760-e401-477f-a579-d7c84cec72c1",
   "metadata": {},
   "outputs": [],
   "source": [
    "mc_total = dy_mc + dy_tau_mc + ttbar_tau_mc\n",
    "mc_total.set_label_name('Total MC')"
   ]
  },
  {
   "cell_type": "code",
   "execution_count": 8,
   "id": "70e62db4-3b77-4954-94e0-82d40ef58d86",
   "metadata": {},
   "outputs": [],
   "source": [
    "data=rt_hist.THxxDataWithSyst([(\"2016 data\",\"./data/ISRAnalyzer_SkimTree_Dilepton_DoubleEG.root\")],\"ee2016/dilep_pt_m64to81\",\"Data\",\n",
    "                         [\"./data/ISRAnalyzer_SkimTree_Dilepton_DoubleEG_sys.root\"], {\"_scale\":[\"_up\",\"_down\"]})"
   ]
  },
  {
   "cell_type": "code",
   "execution_count": 9,
   "id": "34d11e3b-be6e-4022-ab71-53ebe6f1d0de",
   "metadata": {},
   "outputs": [],
   "source": [
    "ratio = mc_total/data"
   ]
  },
  {
   "cell_type": "code",
   "execution_count": 10,
   "id": "903f3aa6-0ed0-446a-af00-26b63a3e789e",
   "metadata": {},
   "outputs": [],
   "source": [
    "one = data/data"
   ]
  },
  {
   "cell_type": "code",
   "execution_count": 11,
   "id": "c1e8c95a-e1c3-4429-8484-f18432a20ccf",
   "metadata": {},
   "outputs": [],
   "source": [
    "import MatplotlibDrawer"
   ]
  },
  {
   "cell_type": "code",
   "execution_count": 12,
   "id": "2dcd5d9d-12e3-4989-84b8-c38af442971f",
   "metadata": {},
   "outputs": [
    {
     "data": {
      "image/png": "[encoded data removed]",
      "text/plain": [
       "<Figure size 576x504 with 2 Axes>"
      ]
     },
     "metadata": {
      "image/png": {
       "height": 488,
       "width": 517
      },
      "needs_background": "light"
     },
     "output_type": "display_data"
    }
   ],
   "source": [
    "test = MatplotlibDrawer.MatplotlibDrawer(2, 1);"
   ]
  },
  {
   "cell_type": "code",
   "execution_count": 13,
   "id": "61d97869-41a5-4bbc-8db3-cbdafbf35491",
   "metadata": {},
   "outputs": [],
   "source": [
    "test.clear_axes(0)\n",
    "test.clear_axes(1)"
   ]
  },
  {
   "cell_type": "code",
   "execution_count": 14,
   "id": "e5201dfb-0974-4dfc-9a41-6bb412c6c3c3",
   "metadata": {},
   "outputs": [],
   "source": [
    "test.draw_errorbar(data, 0, fmt='ko')\n",
    "test.draw_hatch_error(data, 0, edgecolor='k')\n",
    "test.draw_box_error(mc_total, 0, face_color='r')\n",
    "test.draw_stack(ttbar_tau_mc, dy_tau_mc, dy_mc, i_row=0)\n",
    "test.draw_labels(0)\n",
    "\n",
    "test.draw_errorbar(one, 1, fmt='ko', y_range=(0.8,1.2))\n",
    "test.draw_hatch_error(one, 1, edgecolor='k')\n",
    "\n",
    "test.draw_errorbar(ratio, 1, fmt='ro', y_range=(0.8,1.2))\n",
    "test.draw_box_error(ratio, 1, face_color='r')"
   ]
  },
  {
   "cell_type": "code",
   "execution_count": 15,
   "id": "7c784238-56e5-48a0-8c9a-29096c1546f5",
   "metadata": {},
   "outputs": [],
   "source": [
    "test.save_plot()"
   ]
  },
  {
   "cell_type": "code",
   "execution_count": 16,
   "id": "2c4e83fe-5824-49fa-8fab-b6f455417bc0",
   "metadata": {},
   "outputs": [],
   "source": [
    "color_map = {\"a\":\"red\", \"b\":\"black\"}"
   ]
  },
  {
   "cell_type": "code",
   "execution_count": 17,
   "id": "d91aa83c-051a-422c-b0b0-91a4a860da73",
   "metadata": {},
   "outputs": [
    {
     "data": {
      "text/plain": [
       "False"
      ]
     },
     "execution_count": 17,
     "metadata": {},
     "output_type": "execute_result"
    }
   ],
   "source": [
    " \"c\" in color_map"
   ]
  },
  {
   "cell_type": "code",
   "execution_count": null,
   "id": "6bcc6d9c-8dc8-4614-81a8-af6480b6eb5f",
   "metadata": {},
   "outputs": [],
   "source": []
  }
 ],
 "metadata": {
  "kernelspec": {
   "display_name": "Python 3 (ipykernel)",
   "language": "python",
   "name": "python3"
  },
  "language_info": {
   "codemirror_mode": {
    "name": "ipython",
    "version": 3
   },
   "file_extension": ".py",
   "mimetype": "text/x-python",
   "name": "python",
   "nbconvert_exporter": "python",
   "pygments_lexer": "ipython3",
   "version": "3.9.12"
  }
 },
 "nbformat": 4,
 "nbformat_minor": 5
}
